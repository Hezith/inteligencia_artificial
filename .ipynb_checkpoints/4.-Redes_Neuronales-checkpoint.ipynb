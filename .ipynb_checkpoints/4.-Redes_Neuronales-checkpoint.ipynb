{
 "cells": [
  {
   "cell_type": "markdown",
   "metadata": {},
   "source": [
    "# Diferenciacion automatica\n",
    "\n",
    "Supongamos que necesitamos encontrar derivadas de la funcion $F(x)=(5x+1)^2$\n",
    "\n",
    "Si descomponemos la funci\\'on $F(x)=f(g(x))$, donde $f(x)=x^2$ y $g(x)=5x+1$ entonces podemos calcular la derivada de $\\frac{\\partial F(x)}{\\partial x}$ como:\n",
    "\n",
    "\\begin{align}\n",
    "\\frac{\\partial F(x)}{\\partial x}=\\frac{\\partial f(g(x))}{\\partial x} \\times \\frac{\\partial g(x)}{\\partial x}\n",
    "\\end{align}"
   ]
  },
  {
   "cell_type": "code",
   "execution_count": 5,
   "metadata": {},
   "outputs": [
    {
     "name": "stdout",
     "output_type": "stream",
     "text": [
      "F(X) : 1.000000\n",
      "dF/dx : 10.000000\n"
     ]
    }
   ],
   "source": [
    "from autograd import grad\n",
    "from autograd.core import primitive\n",
    "import autograd.numpy as np\n",
    "\n",
    "def F(x):\n",
    "    return (5*x+1)**2\n",
    "\n",
    "grad_F = grad(F)\n",
    "\n",
    "print ('F(X) : %.6f'%F(0.0))\n",
    "print ('dF/dx : %.6f'%grad_F(0.0))"
   ]
  },
  {
   "cell_type": "markdown",
   "metadata": {},
   "source": [
    "# Redes Neuronales\n",
    "\n",
    "Ahora en el contexto del aprendizaje automatico, queremos eoncontrar derivadas parciales de una funcion objetivo con respecto a los parametros del modelo. En el caso de problemas de clasificacion binaria multi-variable contamos con datos de entrada $\\textbf X=(\\mathbf x_1,\\ldots,\\mathbf x_n)$ y sus correspondientes etiquetas $\\textbf y=(y_1,\\ldots,y_n)$.\n",
    "\n",
    "Para cada tupla $(x_i,y_i)$ podemos establecer la siguiente relacion lineal:\n",
    "\n",
    "\\begin{align}\n",
    "\\text{log}\\left(\\frac{p( C=1 \\vert \\mathbf x_i )}{p(C=0 \\vert \\mathbf x_i )} \\right)&=w_0+\\sum_{j=1}^{n} w_j\\,x_{ij}\\\\\n",
    "&=\\mathbf w^T \\mathbf x_i\n",
    "\\end{align}  \n",
    "\n",
    "Al mismo tiempo , podemos obtener las probabilidades condicionales para cada clase:\n",
    "\n",
    "\\begin{align}\n",
    "p(C=1\\vert \\textbf x_i)&= \\phi(\\mathbf w^T \\mathbf x_i)=\\frac{\\text{exp}(\\mathbf w^T \\mathbf x_i)}{1+\\text{exp}(\\mathbf w^T \\mathbf x_i)}\n",
    "\\end{align} \n",
    "\n",
    "Donde $\\phi(\\cdot)$ es la llamada función sigmoide.\n",
    "\n",
    "La funcion sigmoide convierte cualquier entrada $\\mathbf w^T \\mathbf x_i \\in [-\\inf,\\inf]$ hacia el intervalo $(0,1)$, por lo tanto podemos utilizar la funcion de verosimilitud de la distribucion de Bernoulli para comparar las probabilidad de clase con las etiquetas binarias:\n",
    "\n",
    "\\begin{align}\n",
    "p(\\textbf y, \\textbf X,\\mathbf w)= \\prod_{i=1}^N (\\phi(\\mathbf w^T \\mathbf x_i))^y_i \\times (1-\\phi(\\mathbf w^T \\mathbf x_i))^{1-y_i}\n",
    "\\end{align}\n",
    "\n",
    "Ahora queremos obtener los parametros $\\hat{\\mathbf w}$ que maximicen la verosimilitud $p(\\textbf y, \\textbf X,\\mathbf w)$. Dado que la funcion logaritmo es monotona en todo el dominio $[-\\inf,\\inf]$ utilizamos $\\operatorname{log} p(\\textbf y, \\textbf X,\\mathbf w)$ como funcion objetivo (log-loss):\n",
    "\n",
    "\\begin{align}\n",
    "L(\\mathbf w)=\\sum_{i=1}^N (y_i \\operatorname{log} \\phi(\\mathbf w^T \\mathbf x_i)) + ({1-y_i}) \\operatorname{log} (1-\\phi(\\mathbf w^T \\mathbf x_i))\n",
    "\\end{align}\n",
    "\n",
    "Ahora que tenemos definida una funcion objetivo, podemos evaluar iterativamente los pesos $w$ escogiendo la direccion de maximo crecimiento (gradiente).\n",
    "\n",
    "\\begin{align}\n",
    "\\mathbf w^{j+1}= \\mathbf  w^j-\\eta \\frac{\\partial L(\\mathbf w)}{\\partial \\mathbf w}\n",
    "\\end{align}\n",
    "\n",
    "Donde $\\eta > 0$ es un factor de descuento o tasa de aprendizaje."
   ]
  },
  {
   "cell_type": "code",
   "execution_count": 16,
   "metadata": {},
   "outputs": [
    {
     "name": "stdout",
     "output_type": "stream",
     "text": [
      "Initial loss: 2.772588722239781\n",
      "Iteration : 0, Trained loss: 2.718303285064543\n",
      "Iteration : 10, Trained loss: 2.2866756864866558\n",
      "Iteration : 20, Trained loss: 1.9935470373720545\n",
      "Iteration : 30, Trained loss: 1.780080180353536\n",
      "Iteration : 40, Trained loss: 1.6152250384513827\n",
      "Iteration : 50, Trained loss: 1.4822642344478436\n",
      "Iteration : 60, Trained loss: 1.3716328043294488\n",
      "Iteration : 70, Trained loss: 1.2774773326893993\n",
      "Iteration : 80, Trained loss: 1.1959866578262455\n",
      "Iteration : 90, Trained loss: 1.1245433045858901\n"
     ]
    }
   ],
   "source": [
    "from __future__ import absolute_import\n",
    "from __future__ import print_function\n",
    "from builtins import range\n",
    "import autograd.numpy as np\n",
    "from autograd import grad\n",
    "from autograd.test_util import check_grads\n",
    "\n",
    "def sigmoid(x):\n",
    "    return np.exp(x)/(1+np.exp(x))\n",
    "\n",
    "def logistic_predictions(weights, inputs):\n",
    "    # Outputs probability of a label being true according to logistic model.\n",
    "    return sigmoid(np.dot(inputs, weights))\n",
    "\n",
    "def training_loss(weights):\n",
    "    # Training loss is the negative log-likelihood of the training labels.\n",
    "    preds = logistic_predictions(weights, inputs)\n",
    "    label_probabilities = preds * targets + (1 - preds) * (1 - targets)\n",
    "    return -np.sum(np.log(label_probabilities))\n",
    "\n",
    "# Build a toy dataset.\n",
    "inputs = np.array([[0.52, 1.12,  0.77],\n",
    "                   [0.88, -1.08, 0.15],\n",
    "                   [0.52, 0.06, -1.30],\n",
    "                   [0.74, -2.49, 1.39]])\n",
    "targets = np.array([True, True, False, True])\n",
    "\n",
    "# Build a function that returns gradients of training loss using autograd.\n",
    "training_gradient_fun = grad(training_loss)\n",
    "\n",
    "# Check the gradients numerically, just to be safe.\n",
    "weights = np.array([0.0, 0.0, 0.0])\n",
    "check_grads(training_loss, modes=['rev'])(weights)\n",
    "\n",
    "# Optimize weights using gradient descent.\n",
    "print(\"Initial loss:\", training_loss(weights))\n",
    "\n",
    "loss_history=[]\n",
    "eta=0.01\n",
    "for i in range(100):\n",
    "    weights -= training_gradient_fun(weights) * eta\n",
    "    loss_history.append(training_loss(weights))\n",
    "    if i%(100/10)==0:\n",
    "        print(\"Iteration : {0}, Trained loss: {1}\".format(i,training_loss(weights)))"
   ]
  },
  {
   "cell_type": "code",
   "execution_count": 17,
   "metadata": {},
   "outputs": [
    {
     "data": {
      "image/png": "[encoded data removed]",
      "text/plain": [
       "<Figure size 432x288 with 1 Axes>"
      ]
     },
     "metadata": {},
     "output_type": "display_data"
    }
   ],
   "source": [
    "import matplotlib.pyplot as plt\n",
    "\n",
    "plt.plot(loss_history)\n",
    "plt.show()"
   ]
  },
  {
   "cell_type": "code",
   "execution_count": null,
   "metadata": {},
   "outputs": [],
   "source": []
  }
 ],
 "metadata": {
  "kernelspec": {
   "display_name": "Python 3",
   "language": "python",
   "name": "python3"
  },
  "language_info": {
   "codemirror_mode": {
    "name": "ipython",
    "version": 3
   },
   "file_extension": ".py",
   "mimetype": "text/x-python",
   "name": "python",
   "nbconvert_exporter": "python",
   "pygments_lexer": "ipython3",
   "version": "3.6.9"
  }
 },
 "nbformat": 4,
 "nbformat_minor": 2
}
