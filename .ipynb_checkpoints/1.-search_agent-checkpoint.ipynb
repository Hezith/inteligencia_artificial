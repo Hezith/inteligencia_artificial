{
 "cells": [
  {
   "cell_type": "markdown",
   "metadata": {},
   "source": [
    "<h1>Búsqueda No Informada y Heurística</h1>\n",
    "<p>\n",
    "    En general, un problema de búsqueda se compone de:\n",
    "    <ul>\n",
    "        <li>Un nodo inicial</li>\n",
    "        <li>Una función que devuelve los hijos del nodo</li>\n",
    "        <li>Una función que booleana que devuelve TRUE si el nodo es uno de los objetivos</li>\n",
    "        <li>Una función que devuelve la heurística del nodo</li>\n",
    "    </ul>\n",
    "</p>\n",
    "La siguiente función provee una clase abstracta para un problema de búsqueda"
   ]
  },
  {
   "cell_type": "code",
   "execution_count": 5,
   "metadata": {},
   "outputs": [],
   "source": [
    "class generic_search_problem(object):\n",
    "    \n",
    "    def is_goal(self,node,goal):\n",
    "        raise NotImplementedError(\"is_goal\")\n",
    "    \n",
    "    def get_children(self,node):\n",
    "        raise NotImplementedError(\"get_children\")\n",
    "    \n",
    "    def search(self):\n",
    "        raise NotImplementedError(\"search\")\n"
   ]
  },
  {
   "cell_type": "markdown",
   "metadata": {},
   "source": [
    "Por ejemplo, si podemos representar el siguiente grafo de búsqueda:\n"
   ]
  },
  {
   "cell_type": "code",
   "execution_count": 9,
   "metadata": {},
   "outputs": [],
   "source": [
    "from collections import deque\n",
    "\n",
    "class bfs_search(generic_search_problem):\n",
    "    \n",
    "    def __init__(self,_edges):\n",
    "        self.edges=_edges\n",
    "        self.nodes={a for a,b in self.edges} | {b for a,b in self.edges}\n",
    "            \n",
    "    def is_goal(self,node,goal):\n",
    "        return node==goal\n",
    "\n",
    "    def get_children(self,node):\n",
    "        return {b for a,b in self.edges if a==node} \n",
    "    \n",
    "    def search(self,start,goal):\n",
    "        parents={}\n",
    "        visited=set()\n",
    "        parents.update({start:None})\n",
    "        frontier=deque() # Queue FIFO\n",
    "        frontier.append(start)\n",
    "        while frontier:\n",
    "            print('queue :',frontier)\n",
    "            print('visited :',visited)\n",
    "            print('--------')\n",
    "            node=frontier.popleft()\n",
    "            if self.is_goal(node,goal):\n",
    "                return parents\n",
    "            visited.add(node)\n",
    "            for child in self.get_children(node):\n",
    "                if child not in visited and child not in frontier:\n",
    "                    parents.update({child:node})\n",
    "                    frontier.append(child)\n",
    "        return parents"
   ]
  },
  {
   "cell_type": "code",
   "execution_count": 10,
   "metadata": {},
   "outputs": [
    {
     "data": {
      "image/png": "[encoded data removed]",
      "text/plain": [
       "<Figure size 432x288 with 1 Axes>"
      ]
     },
     "metadata": {},
     "output_type": "display_data"
    }
   ],
   "source": [
    "import networkx as nx\n",
    "import matplotlib.pyplot as plt\n",
    "\n",
    "E={('a', 'b'),('a', 'c'),('b', 'c'),('c', 'd'),('b', 'd'),('d', 'g'),('c', 'g')}\n",
    "\n",
    "\n",
    "G=nx.DiGraph()\n",
    "G.add_edges_from(E)\n",
    "pos = nx.spring_layout(G)\n",
    "nx.draw(G,pos, with_labels=True, font_weight='bold')\n",
    "\n",
    "plt.show()\n"
   ]
  },
  {
   "cell_type": "code",
   "execution_count": 11,
   "metadata": {},
   "outputs": [
    {
     "name": "stdout",
     "output_type": "stream",
     "text": [
      "queue : deque(['a'])\n",
      "visited : set()\n",
      "--------\n",
      "queue : deque(['b', 'c'])\n",
      "visited : {'a'}\n",
      "--------\n",
      "queue : deque(['c', 'd'])\n",
      "visited : {'a', 'b'}\n",
      "--------\n",
      "queue : deque(['d', 'g'])\n",
      "visited : {'a', 'b', 'c'}\n",
      "--------\n",
      "queue : deque(['g'])\n",
      "visited : {'d', 'a', 'b', 'c'}\n",
      "--------\n",
      "path :  ['g', 'c', 'a']\n"
     ]
    }
   ],
   "source": [
    "bfs=bfs_search(E)\n",
    "#print(bfs.get_children('a'))\n",
    "bfs_tree=bfs.search('a','g')\n",
    "#print(bfs_tree)\n",
    "\n",
    "def get_path(search_results,goal):\n",
    "    path=[goal]\n",
    "    node=goal\n",
    "    while search_results[node] is not None:\n",
    "        parent=search_results[node]\n",
    "        path.append(parent)\n",
    "        node=parent\n",
    "    return path\n",
    "   \n",
    "print('path : ',get_path(bfs_tree,'g'))"
   ]
  },
  {
   "cell_type": "code",
   "execution_count": 12,
   "metadata": {},
   "outputs": [],
   "source": [
    "from heapq import heappush,heappop\n",
    "import numpy as np\n",
    "\n",
    "class puzzle(object):\n",
    "    \n",
    "    def __init__(self,node,level):\n",
    "        self.state=node\n",
    "        self.level=level\n",
    "        \n",
    "    def __hash__(self):\n",
    "        return hash(np.array_str(self.state.ravel()))\n",
    "        \n",
    "    def __eq__(self,other):\n",
    "        return np.array_equal(other.state,self.state)\n",
    "\n",
    "    def __eq__(self,other):\n",
    "        return np.array_equal(other.state,self.state)\n",
    "    \n",
    "    def __gt__(self,other):\n",
    "        return self.level>other.level\n",
    "\n",
    "    def __lt__(self,other):\n",
    "        return self.level<other.level\n",
    "   \n",
    "    def pretty_print(self):\n",
    "        return np.array_str(self.state.ravel())\n",
    " \n",
    "    def solvable(self):\n",
    "        return len([(a,b) for i,a in enumerate(self.state.ravel()) for b in self.state.ravel()[i:] if a>b & b!=0])%2==0\n",
    "    \n",
    "    def get_children(self):\n",
    "        child_list=set()\n",
    "        dim=self.state.shape[0]\n",
    "        i,j=map(np.int,np.where(self.state==0))\n",
    "        #print i,j\n",
    "        if (j>0):\n",
    "            child=self.state.copy()\n",
    "            child[i,j]=self.state[i,j-1]\n",
    "            child[i,j-1]=0\n",
    "            p=puzzle(child,self.level+1)\n",
    "            child_list.add(p)\n",
    "        if (j<dim-1):\n",
    "            child=self.state.copy()\n",
    "            child[i,j]=self.state[i,j+1]\n",
    "            child[i,j+1]=0\n",
    "            p=puzzle(child,self.level+1)\n",
    "            child_list.add(p)\n",
    "        if (i>0):\n",
    "            child=self.state.copy()\n",
    "            child[i,j]=self.state[i-1,j]\n",
    "            child[i-1,j]=0\n",
    "            p=puzzle(child,self.level+1)\n",
    "            child_list.add(p)\n",
    "        if (i<dim-1):\n",
    "            child=self.state.copy()\n",
    "            child[i,j]=self.state[i+1,j]\n",
    "            child[i+1,j]=0\n",
    "            p=puzzle(child,self.level+1)\n",
    "            child_list.add(p)\n",
    "        return child_list"
   ]
  },
  {
   "cell_type": "code",
   "execution_count": 13,
   "metadata": {},
   "outputs": [],
   "source": [
    "dim=3\n",
    "\n",
    "goal=puzzle(np.insert(np.arange(1,dim*dim),dim*dim-1,0).reshape(dim,dim),0)\n",
    "\n",
    "easy_start=puzzle(np.insert(np.arange(1,dim*dim),6,0).reshape(dim,dim),0)\n"
   ]
  },
  {
   "cell_type": "code",
   "execution_count": 26,
   "metadata": {},
   "outputs": [
    {
     "name": "stdout",
     "output_type": "stream",
     "text": [
      "nodo objetivo : \n",
      "[[1 2 3]\n",
      " [4 5 6]\n",
      " [7 8 0]]\n",
      "nodo inicial : \n",
      "[[1 2 3]\n",
      " [4 5 6]\n",
      " [0 7 8]]\n",
      "hijos : \n",
      "[[1 2 3]\n",
      " [0 5 6]\n",
      " [4 7 8]]\n",
      "1\n",
      "[[1 2 3]\n",
      " [4 5 6]\n",
      " [7 0 8]]\n",
      "1\n"
     ]
    }
   ],
   "source": [
    "print('nodo objetivo : ')\n",
    "print(goal.state)\n",
    "print('nodo inicial : ')\n",
    "print(easy_start.state)\n",
    "print('hijos : ')\n",
    "for p in easy_start.get_children():\n",
    "    print(p.state)\n",
    "    print(p.level)"
   ]
  },
  {
   "cell_type": "code",
   "execution_count": 14,
   "metadata": {},
   "outputs": [],
   "source": [
    "class bfs_puzzle(generic_search_problem):\n",
    "    \n",
    "    def __init__(self,start):\n",
    "        self.state=start\n",
    "            \n",
    "    def is_goal(self,node,goal):\n",
    "        return node==goal\n",
    "    \n",
    "    def get_children(self,node):\n",
    "        return node.get_children()\n",
    "    \n",
    "    def search(self,goal):\n",
    "        parents={}\n",
    "        visited=set()\n",
    "        parents.update({self.state:None})\n",
    "        frontier=deque() # queue\n",
    "        frontier.append(self.state)\n",
    "        while frontier:\n",
    "            node=frontier.popleft() # FIFO\n",
    "            if self.is_goal(node,goal):\n",
    "                return parents\n",
    "            visited.add(node)\n",
    "            for child in self.get_children(node):\n",
    "                if child not in visited and child not in frontier:\n",
    "                    parents.update({child:node})\n",
    "                    frontier.append(child)\n",
    "        return parents\n",
    "    \n",
    "class dfs_puzzle(generic_search_problem):\n",
    "    \n",
    "    def __init__(self,start):\n",
    "        self.state=start\n",
    "            \n",
    "    def is_goal(self,node,goal):\n",
    "        return node==goal\n",
    "    \n",
    "    def get_children(self,node):\n",
    "        return node.get_children()\n",
    "    \n",
    "    def search(self,goal):\n",
    "        parents={}\n",
    "        visited=set()\n",
    "        parents.update({self.state:None})\n",
    "        frontier=deque() # stack\n",
    "        frontier.append(self.state)\n",
    "        while frontier:\n",
    "            node=frontier.pop() # LIFO\n",
    "            if self.is_goal(node,goal):\n",
    "                return parents\n",
    "            visited.add(node)\n",
    "            for child in self.get_children(node):\n",
    "                if child not in visited and child not in frontier:\n",
    "                    parents.update({child:node})\n",
    "                    frontier.append(child)\n",
    "        return parents"
   ]
  },
  {
   "cell_type": "code",
   "execution_count": 27,
   "metadata": {},
   "outputs": [
    {
     "name": "stdout",
     "output_type": "stream",
     "text": [
      "[[1 2 3]\n",
      " [4 5 6]\n",
      " [7 8 0]]\n",
      "0\n",
      "[[1 2 3]\n",
      " [4 5 6]\n",
      " [7 0 8]]\n",
      "1\n",
      "[[1 2 3]\n",
      " [4 5 6]\n",
      " [0 7 8]]\n",
      "0\n"
     ]
    },
    {
     "data": {
      "text/plain": [
       "648"
      ]
     },
     "execution_count": 27,
     "metadata": {},
     "output_type": "execute_result"
    }
   ],
   "source": [
    "import sys\n",
    "bfs_tree=bfs_puzzle(easy_start).search(goal)\n",
    "\n",
    "for p in get_path(bfs_tree,goal):\n",
    "    print(p.state)\n",
    "    print(p.level)\n",
    "    \n",
    "sys.getsizeof(bfs_tree)     "
   ]
  },
  {
   "cell_type": "code",
   "execution_count": 28,
   "metadata": {},
   "outputs": [
    {
     "name": "stdout",
     "output_type": "stream",
     "text": [
      "[[1 2 3]\n",
      " [4 5 6]\n",
      " [7 8 0]]\n",
      "0\n",
      "[[1 2 3]\n",
      " [4 5 6]\n",
      " [7 0 8]]\n",
      "1\n",
      "[[1 2 3]\n",
      " [4 5 6]\n",
      " [0 7 8]]\n",
      "0\n"
     ]
    },
    {
     "data": {
      "text/plain": [
       "240"
      ]
     },
     "execution_count": 28,
     "metadata": {},
     "output_type": "execute_result"
    }
   ],
   "source": [
    "dfs_tree=dfs_puzzle(easy_start).search(goal)\n",
    "\n",
    "for p in get_path(bfs_tree,goal):\n",
    "    print(p.state)\n",
    "    print(p.level)\n",
    "    \n",
    "sys.getsizeof(dfs_tree)  "
   ]
  },
  {
   "cell_type": "code",
   "execution_count": 31,
   "metadata": {},
   "outputs": [
    {
     "name": "stdout",
     "output_type": "stream",
     "text": [
      "nodo objetivo : \n",
      "[[1 2 3]\n",
      " [4 5 6]\n",
      " [7 8 0]]\n",
      "nodo inicial : \n",
      "[[1 4 7]\n",
      " [5 2 8]\n",
      " [6 0 3]]\n",
      "hijos : \n",
      "[[1 4 7]\n",
      " [5 0 8]\n",
      " [6 2 3]]\n",
      "1\n",
      "[[1 4 7]\n",
      " [5 2 8]\n",
      " [6 3 0]]\n",
      "1\n",
      "[[1 4 7]\n",
      " [5 2 8]\n",
      " [0 6 3]]\n",
      "1\n"
     ]
    }
   ],
   "source": [
    "random_start=puzzle(np.random.permutation(np.arange(9)).reshape(dim,dim),0)\n",
    "\n",
    "print('nodo objetivo : ')\n",
    "print(goal.state)\n",
    "print('nodo inicial : ')\n",
    "print(random_start.state)\n",
    "print('hijos : ')\n",
    "for p in random_start.get_children():\n",
    "    print(p.state)\n",
    "    print(p.level)"
   ]
  },
  {
   "cell_type": "code",
   "execution_count": 36,
   "metadata": {},
   "outputs": [
    {
     "name": "stdout",
     "output_type": "stream",
     "text": [
      "nodo objetivo : \n",
      "[[1 2 3]\n",
      " [4 5 6]\n",
      " [7 8 0]]\n",
      "nodo inicial : \n",
      "[[1 2 3]\n",
      " [4 5 0]\n",
      " [6 7 8]]\n",
      "hijos : \n",
      "[[1 2 3]\n",
      " [4 0 5]\n",
      " [6 7 8]]\n",
      "1\n",
      "[[1 2 3]\n",
      " [4 5 8]\n",
      " [6 7 0]]\n",
      "1\n",
      "[[1 2 0]\n",
      " [4 5 3]\n",
      " [6 7 8]]\n",
      "1\n"
     ]
    }
   ],
   "source": [
    "random_start=puzzle(np.insert(np.arange(1,dim*dim),5,0).reshape(dim,dim),0)\n",
    "\n",
    "print('nodo objetivo : ')\n",
    "print(goal.state)\n",
    "print('nodo inicial : ')\n",
    "print(random_start.state)\n",
    "print('hijos : ')\n",
    "for p in random_start.get_children():\n",
    "    print(p.state)\n",
    "    print(p.level)"
   ]
  },
  {
   "cell_type": "code",
   "execution_count": 51,
   "metadata": {},
   "outputs": [],
   "source": [
    "class ids_puzzle(generic_search_problem):\n",
    "    \n",
    "    def __init__(self,start):\n",
    "        self.state=start\n",
    "            \n",
    "    def is_goal(self,node,goal):\n",
    "        return node==goal\n",
    "    \n",
    "    def get_children(self,node):\n",
    "        return node.get_children()\n",
    "    \n",
    "    def search(self,goal,bound):\n",
    "        parents={}\n",
    "        visited=set()\n",
    "        parents.update({self.state:None})\n",
    "        frontier=deque() # stack\n",
    "        frontier.append(self.state)\n",
    "        while frontier:\n",
    "            node=frontier.pop() # LIFO\n",
    "            if self.is_goal(node,goal):\n",
    "                print('found!')\n",
    "                return parents\n",
    "            visited.add(node)\n",
    "            if node.level<bound:\n",
    "                for child in self.get_children(node):\n",
    "                    if child not in visited and child not in frontier:\n",
    "                        parents.update({child:node})\n",
    "                        frontier.append(child)\n",
    "        return parents"
   ]
  },
  {
   "cell_type": "code",
   "execution_count": 60,
   "metadata": {},
   "outputs": [
    {
     "name": "stdout",
     "output_type": "stream",
     "text": [
      "cota :5, memoria : 2.23 [kB]\n",
      "cota :10, memoria : 18.09 [kB]\n",
      "cota :15, memoria : 144.10 [kB]\n",
      "cota :20, memoria : 36.10 [kB]\n",
      "cota :25, memoria : 144.10 [kB]\n",
      "cota :30, memoria : 1280.09 [kB]\n"
     ]
    }
   ],
   "source": [
    "import sys\n",
    "for c in np.arange(1,31):\n",
    "    ids_tree=ids_puzzle(random_start).search(goal,bound=c)\n",
    "    if c%5==0:\n",
    "        print('cota :{0}, memoria : {1:.2f} [kB]'.format(c,sys.getsizeof(ids_tree)/1024))   "
   ]
  },
  {
   "cell_type": "markdown",
   "metadata": {},
   "source": [
    "<h2>Búsqueda Heurística</h2>\n",
    "A diferencia de la búqueda no informada, la estrategia de búsqueda denominada best-first es un método del tipo greedy que incorpora al costo $h(n)$ del nodo $n$ hacia el objetivo. La estrategia de búsqueda greedy best-first selecciona el candidato $n \\in \\operatorname{GET\\_CHILDREN}$ con\n",
    "mejor puntuación $f(n) = h(n)$ en cada momento."
   ]
  },
  {
   "cell_type": "code",
   "execution_count": 14,
   "metadata": {},
   "outputs": [],
   "source": [
    "from heapq import heappush,heappop\n",
    "\n",
    "class bestfirst_search(generic_search_problem):\n",
    "    \n",
    "    def __init__(self,_edges,_heuristic):\n",
    "        self.edges=_edges\n",
    "        self.heuristic=_heuristic\n",
    "        self.nodes={a for a,b in self.edges} | {b for a,b in self.edges}\n",
    "        \n",
    "    def is_goal(self,node,goal):\n",
    "        return node==goal \n",
    "\n",
    "    def get_children(self,node):\n",
    "        return {b for a,b in self.edges if a==node}\n",
    "    \n",
    "    def search(self,start,goal):\n",
    "        parents={}\n",
    "        visited=set()\n",
    "        parents.update({start:None})\n",
    "        frontier=[]\n",
    "        heappush(frontier,(self.heuristic[start],start))\n",
    "        while frontier:\n",
    "            node=heappop(frontier)[1]\n",
    "            if self.is_goal(node,goal):\n",
    "                return parents\n",
    "            for child in self.get_children(node):\n",
    "                if child not in visited:\n",
    "                    parents.update({child:node})\n",
    "                    heappush(frontier,(self.heuristic[child],child))\n",
    "                    visited.add(child)\n",
    "        return parents\n"
   ]
  },
  {
   "cell_type": "code",
   "execution_count": 15,
   "metadata": {},
   "outputs": [
    {
     "data": {
      "text/plain": [
       "{'a': None, 'b': 'a', 'c': 'a', 'd': 'c', 'g': 'c'}"
      ]
     },
     "execution_count": 15,
     "metadata": {},
     "output_type": "execute_result"
    }
   ],
   "source": [
    "E={('a', 'b'),('a', 'c'),('b', 'c'),('c', 'd'),('b', 'd'),('d', 'g'),('c', 'g')}\n",
    "H={'a':0,'b':3,'c':2,'d':1,'g':0}\n",
    "\n",
    "bs=bestfirst_search(E,H)\n",
    "bs.search('a','g')"
   ]
  },
  {
   "cell_type": "markdown",
   "metadata": {},
   "source": [
    "la estrategia de búsqueda A* es también un método del tipo greedy que incorpora al costo $h(n)$ del nodo $n$ hacia el objetivo así como también el costo acumulado $g(n)$ de llegar hacia $n$. La estrategia de búsqueda greedy best-first selecciona el candidato $n \\in \\operatorname{GET\\_CHILDREN}$ con\n",
    "mejor puntuación $f(n) = h(n)+g(n)$ en cada momento."
   ]
  },
  {
   "cell_type": "code",
   "execution_count": 16,
   "metadata": {},
   "outputs": [],
   "source": [
    "E={('a', 'b'):1,('a', 'c'):3,('b', 'c'):1,('c', 'd'):1,('b', 'd'):3,('d', 'g'):1,('c', 'g'):3}\n",
    "H={'a':0,'b':3,'c':2,'d':1,'g':0}"
   ]
  },
  {
   "cell_type": "code",
   "execution_count": 17,
   "metadata": {},
   "outputs": [],
   "source": [
    "# Tarea implementar A* para incorporar el costo acumulado\n",
    "\n",
    "from heapq import heappush,heappop\n",
    "\n",
    "class astar_search(generic_search_problem):\n",
    "    \n",
    "    def __init__(self,_edges,_heuristic,_start,_goal):\n",
    "        pass\n",
    "    \n",
    "    def start_node(self):\n",
    "        pass\n",
    "    \n",
    "    def is_goal(self,node):\n",
    "        pass\n",
    "        \n",
    "    def get_children(self,node):\n",
    "        pass\n",
    "        \n",
    "    def search(self):\n",
    "        pass\n",
    "        \n"
   ]
  },
  {
   "cell_type": "markdown",
   "metadata": {},
   "source": [
    "<h1>Implementación Puzzle 8</h1>\n",
    "<p>\n",
    "El problema del 8-puzzle fue inventado en 1870 y se juega en una grilla de 3x3 con 9 bloques cuadrados. Cada bloque tiene una etiqueta con un número del 1 al 8 y existe un espacio en blanco en el cual el jugador puede mover un bloque adyacente.   \n",
    "</p>\n",
    "    "
   ]
  },
  {
   "cell_type": "code",
   "execution_count": 5,
   "metadata": {},
   "outputs": [],
   "source": [
    "from IPython.display import Image\n",
    "#Image(filename='../figures/8_puzzle.png') \n",
    "    "
   ]
  },
  {
   "cell_type": "markdown",
   "metadata": {
    "slideshow": {
     "slide_type": "-"
    }
   },
   "source": [
    "<p>\n",
    "Cada estado del puzzle puede ser visto como un vértice de un grafo tipo árbol, cuyo nodo raiz es el estado inicial del puzzle. Las estrategias de búsqueda no-informada no utilizan ningún criterio para ponderar las soluciones y por ende dependen en gran medida de la complejidad del problema.</p>\n",
    "<p>\n",
    "<ul>\n",
    "<li>\n",
    "De modo de diseñar algoritmos ''inteligentes'', es necesario reducir el espacio de b{usqueda y concentrarse en los estados que sean  atractivos.\n",
    "</li>\n",
    "<li>\n",
    "Dado la alta complejidad de los problemas, no es posible recorrer todos los caminos y por lo tanto solo podemos evaluar estados que sean potencialmente atractivos.\n",
    "<li>\n",
    "La estrategia de búsqueda A* utiliza una combinación de búsqueda local:\n",
    "</li>\n",
    "\n",
    "\\begin{align}\n",
    "f(n)=g(n)+h(n)\n",
    "\\end{align}\n",
    "\n",
    "Donde $g(n)$ corresponde al costo de la ruta desde el nodo inicial al nodo $n$ y $h(n)$ es el costo estimado (cota inferior) desde $n$ hasta el nodo objetivo.\n",
    "</ul>\n",
    "\n",
    "Para el problema del puzzle, utlizamos las siguientes heurísticas:\n",
    "\n",
    "<ul>\n",
    "<li>\n",
    "Distancia Hamming : Número de bloques en la posición incorrecta.\n",
    "</li>\n",
    "<li>\n",
    "Distancia Manhattan : Suma de las distancias (suma de la distancia horizontal y vertical) desde el bloque hasta la posición objetivo ($d_M=\\vert X_n-X_g \\vert + \\vert Y_n-Y_g \\vert$).\n",
    "</li>\n"
   ]
  },
  {
   "cell_type": "code",
   "execution_count": 20,
   "metadata": {},
   "outputs": [],
   "source": [
    "from IPython.display import Image\n",
    "#Image(filename='../figures/8_puzzle_distancias.png') "
   ]
  },
  {
   "cell_type": "code",
   "execution_count": 30,
   "metadata": {},
   "outputs": [],
   "source": [
    "from heapq import heappush,heappop\n",
    "import numpy as np\n",
    "\n",
    "class puzzle(object):\n",
    "    \n",
    "    def __init__(self,node,level):\n",
    "        self.state=node\n",
    "        self.level=level\n",
    "        \n",
    "    def __hash__(self):\n",
    "        return hash(np.array_str(self.state.ravel()))\n",
    "        \n",
    "    def __eq__(self,other):\n",
    "        return np.array_equal(other.state,self.state)\n",
    "\n",
    "    def __eq__(self,other):\n",
    "        return np.array_equal(other.state,self.state)\n",
    "    \n",
    "    def __gt__(self,other):\n",
    "        return self.level>other.level\n",
    "\n",
    "    def __lt__(self,other):\n",
    "        return self.level<other.level\n",
    "   \n",
    "    def pretty_print(self):\n",
    "        return np.array_str(self.state.ravel())\n",
    " \n",
    "    def solvable(self):\n",
    "        return len([(a,b) for i,a in enumerate(self.state.ravel()) for b in self.state.ravel()[i:] if a>b & b!=0])%2==0\n",
    "    \n",
    "    def my_heuristic(self,alpha=2):\n",
    "        dim=self.state.shape[0]\n",
    "        return alpha*((dim*dim-2)-len([(a,b) for i,a in enumerate(random_start.state.ravel()) for b in random_start.state.ravel()[i:i+2] if b==a+1]))\n",
    "\n",
    "    \n",
    "def manhattan(node,goal):\n",
    "    dim=node.state.shape[0]\n",
    "    diff_mat=np.zeros((dim,dim))\n",
    "    for i in range(dim):\n",
    "        for j in range(dim):\n",
    "            if goal.state[i,j]!=0:\n",
    "                u,v=map(np.int,np.where(node.state==goal.state[i,j]))\n",
    "                diff_mat[i,j]=abs(i-u)+abs(j-v)\n",
    "    return int(diff_mat.sum())\n",
    "\n",
    "def hamming(node,goal):\n",
    "    dim=node.state.shape[0]\n",
    "    diff_mat=np.zeros((dim,dim))\n",
    "    diff_mat=node.state!=goal.state\n",
    "    dist=np.sum(diff_mat.astype(int).ravel())\n",
    "    if dist>0:\n",
    "        dist=dist-1\n",
    "    return dist\n",
    "    \n",
    "class bestfirst_puzzle(generic_search_problem):\n",
    "    \n",
    "    def __init__(self,_heuristic):\n",
    "        self.heuristic=_heuristic\n",
    "        \n",
    "    def is_goal(self,node,goal):\n",
    "        return node==goal\n",
    "\n",
    "    def get_children(self,node):\n",
    "        child_list=set()\n",
    "        dim=node.state.shape[0]\n",
    "        i,j=map(np.int,np.where(node.state==0))\n",
    "        #print i,j\n",
    "        if (j>0):\n",
    "            child=node.state.copy()\n",
    "            child[i,j]=node.state[i,j-1]\n",
    "            child[i,j-1]=0\n",
    "            p=puzzle(child,node.level+1)\n",
    "            child_list.add(p)\n",
    "        if (j<dim-1):\n",
    "            child=node.state.copy()\n",
    "            child[i,j]=node.state[i,j+1]\n",
    "            child[i,j+1]=0\n",
    "            p=puzzle(child,node.level+1)\n",
    "            child_list.add(p)\n",
    "        if (i>0):\n",
    "            child=node.state.copy()\n",
    "            child[i,j]=node.state[i-1,j]\n",
    "            child[i-1,j]=0\n",
    "            p=puzzle(child,node.level+1)\n",
    "            child_list.add(p)\n",
    "        if (i<dim-1):\n",
    "            child=node.state.copy()\n",
    "            child[i,j]=node.state[i+1,j]\n",
    "            child[i+1,j]=0\n",
    "            p=puzzle(child,node.level+1)\n",
    "            child_list.add(p)\n",
    "        return child_list\n",
    "    \n",
    "    def search(self,start,goal):\n",
    "        parents={}\n",
    "        visited=set()\n",
    "        parents.update({start:None})\n",
    "        frontier=[]\n",
    "        heappush(frontier,(self.heuristic(start,goal),start))\n",
    "        while frontier:\n",
    "            node=heappop(frontier)[1]\n",
    "            if self.is_goal(node,goal):\n",
    "                return parents,len(frontier),len(visited)\n",
    "            visited.add(node)\n",
    "            for child in self.get_children(node):\n",
    "                if child not in visited:\n",
    "                    parents.update({child:node})\n",
    "                    heappush(frontier,(self.heuristic(child,goal),child))\n",
    "        return parents,len(frontier),len(visited)"
   ]
  },
  {
   "cell_type": "code",
   "execution_count": 33,
   "metadata": {},
   "outputs": [
    {
     "name": "stdout",
     "output_type": "stream",
     "text": [
      "[[1 2 3]\n",
      " [4 5 6]\n",
      " [7 8 0]] 0\n",
      "---------------\n",
      "[[1 2 3]\n",
      " [4 5 6]\n",
      " [7 0 8]] 1\n",
      "---------------\n",
      "[[1 2 3]\n",
      " [4 5 6]\n",
      " [0 7 8]] 2\n",
      "---------------\n",
      "frontier : 2, visited : 2\n"
     ]
    }
   ],
   "source": [
    "# nodo inicial y objetivo\n",
    "dim=3\n",
    "\n",
    "goal=puzzle(np.insert(np.arange(1,dim*dim),dim*dim-1,0).reshape(dim,dim),0)\n",
    "\n",
    "easy_start=puzzle(np.insert(np.arange(1,dim*dim),6,0).reshape(dim,dim),0)\n",
    "solver=bestfirst_puzzle(hamming)\n",
    "solver_tree,k,h=solver.search(easy_start,goal)\n",
    "path=get_path(solver_tree,goal)\n",
    "\n",
    "for p in path:\n",
    "    print(p.state,hamming(p,goal))\n",
    "    print('---------------')\n",
    "print('frontier : {0}, visited : {1}'.format(k,h))\n",
    "    \n",
    "while True:\n",
    "    random_start=puzzle(np.random.permutation(np.arange(dim*dim)).reshape((dim,dim)),0)\n",
    "    if random_start.solvable():\n",
    "        break\n",
    "solver_tree,k,h=solver.search(random_start,goal)\n",
    "#path=get_path(solver_tree,goal)\n",
    "\n",
    "    "
   ]
  },
  {
   "cell_type": "code",
   "execution_count": 25,
   "metadata": {},
   "outputs": [
    {
     "data": {
      "image/png": "[encoded data removed]",
      "text/plain": [
       "<Figure size 1440x1080 with 2 Axes>"
      ]
     },
     "metadata": {},
     "output_type": "display_data"
    }
   ],
   "source": [
    "import seaborn as sns\n",
    "sns.set(style=\"darkgrid\")\n",
    "\n",
    "hamming_path=[]\n",
    "hamming_frontier=[]\n",
    "manhattan_path=[]\n",
    "manhattan_frontier=[]\n",
    "solver1=bestfirst_puzzle(hamming)\n",
    "solver2=bestfirst_puzzle(manhattan)\n",
    "        \n",
    "for i in range(200):\n",
    "    while True:\n",
    "        random_start=puzzle(np.random.permutation(np.arange(dim*dim)).reshape((dim,dim)),0)\n",
    "        if random_start.solvable() : break\n",
    "    p1,i,j=solver1.search(random_start,goal)\n",
    "    p2,k,h=solver2.search(random_start,goal)\n",
    "    hamming_path.append(j)\n",
    "    hamming_frontier.append(i)\n",
    "    manhattan_path.append(h)\n",
    "    manhattan_frontier.append(k)\n",
    "    \n",
    "\n",
    "plt.figure(figsize=(20,15))\n",
    "plt.plot([1,2,3])\n",
    "plt.subplot(221)\n",
    "plt.hist(hamming_path,bins=20 , histtype='stepfilled', color='b', alpha=0.5, label='Hamming')\n",
    "plt.hist(manhattan_path,bins=20, histtype='stepfilled',  color='r', alpha=0.5, label='Manhattan') \n",
    "plt.title(\"Path length Best-First\")\n",
    "plt.legend()\n",
    "plt.subplot(222)\n",
    "plt.hist(hamming_frontier,bins=20, histtype='stepfilled',  color='b', alpha=0.5, label='Hamming') \n",
    "plt.hist(manhattan_frontier,bins=20, histtype='stepfilled', color='r', alpha=0.5, label='Manhattan') \n",
    "plt.title(\"Frontier length Best-First\")\n",
    "plt.legend()\n",
    "plt.show()"
   ]
  },
  {
   "cell_type": "code",
   "execution_count": null,
   "metadata": {},
   "outputs": [],
   "source": []
  }
 ],
 "metadata": {
  "celltoolbar": "Slideshow",
  "kernelspec": {
   "display_name": "Python 3",
   "language": "python",
   "name": "python3"
  },
  "language_info": {
   "codemirror_mode": {
    "name": "ipython",
    "version": 3
   },
   "file_extension": ".py",
   "mimetype": "text/x-python",
   "name": "python",
   "nbconvert_exporter": "python",
   "pygments_lexer": "ipython3",
   "version": "3.6.9"
  }
 },
 "nbformat": 4,
 "nbformat_minor": 2
}
