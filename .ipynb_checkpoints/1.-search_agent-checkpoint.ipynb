{
 "cells": [
  {
   "cell_type": "markdown",
   "metadata": {},
   "source": [
    "<h1>Búsqueda No Informada y Heurística</h1>\n",
    "<p>\n",
    "    En general, un problema de búsqueda se compone de:\n",
    "    <ul>\n",
    "        <li>Un nodo inicial</li>\n",
    "        <li>Una función que devuelve los hijos del nodo</li>\n",
    "        <li>Una función que booleana que devuelve TRUE si el nodo es uno de los objetivos</li>\n",
    "        <li>Una función que devuelve la heurística del nodo</li>\n",
    "    </ul>\n",
    "</p>\n",
    "La siguiente función provee una clase abstracta para un problema de búsqueda"
   ]
  },
  {
   "cell_type": "code",
   "execution_count": 1,
   "metadata": {},
   "outputs": [],
   "source": [
    "class generic_edge(object):\n",
    "    \n",
    "    def __init__(self,_parent_node,_child_node,_weight):\n",
    "        self.parent=_parent_node\n",
    "        self._child=_child_node\n",
    "        self.cost=_weight\n",
    "    \n",
    "\n",
    "class generic_search_problem(object):\n",
    "    \n",
    "    def get_children(self,node):\n",
    "        raise NotImplementedError(\"get_children\")\n",
    "    \n",
    "    def search(self):\n",
    "        raise NotImplementedError(\"search\")\n"
   ]
  },
  {
   "cell_type": "markdown",
   "metadata": {},
   "source": [
    "Por ejemplo, si podemos representar el siguiente grafo de búsqueda:\n"
   ]
  },
  {
   "cell_type": "code",
   "execution_count": 24,
   "metadata": {},
   "outputs": [
    {
     "name": "stderr",
     "output_type": "stream",
     "text": [
      "/home/sergio/.local/lib/python3.6/site-packages/networkx/drawing/nx_pylab.py:579: MatplotlibDeprecationWarning: \n",
      "The iterable function was deprecated in Matplotlib 3.1 and will be removed in 3.3. Use np.iterable instead.\n",
      "  if not cb.iterable(width):\n",
      "/home/sergio/.local/lib/python3.6/site-packages/networkx/drawing/nx_pylab.py:676: MatplotlibDeprecationWarning: \n",
      "The iterable function was deprecated in Matplotlib 3.1 and will be removed in 3.3. Use np.iterable instead.\n",
      "  if cb.iterable(node_size):  # many node sizes\n"
     ]
    },
    {
     "data": {
      "image/png": "[encoded data removed]",
      "text/plain": [
       "<Figure size 432x288 with 1 Axes>"
      ]
     },
     "metadata": {},
     "output_type": "display_data"
    }
   ],
   "source": [
    "import networkx as nx\n",
    "import matplotlib.pyplot as plt\n",
    "\n",
    "G=nx.DiGraph()\n",
    "G.add_edge('a', 'b',weight=1)\n",
    "G.add_edge('b', 'c',weight=1)\n",
    "G.add_edge('c', 'd',weight=1)\n",
    "G.add_edge('d', 'g',weight=1)\n",
    "G.add_edge('a', 'c',weight=3)\n",
    "G.add_edge('b', 'd',weight=3)\n",
    "G.add_edge('c', 'g',weight=3)\n",
    "#pos = nx.spring_layout(G, iterations=200)\n",
    "tree=nx.dfs_tree(G,'a')\n",
    "#G=nx.grid_2d_graph(1,2)  #4x4 grid\n",
    "pos = {'a':(0,0),'b':(1,-1),'c':(-2,-2),'d':(3,-3),'g':(-4,-4)}\n",
    "#nx.draw_networkx_edges(G, pos, edge_color='gray', width=1, alpha=0.9)\n",
    "#nx.draw_networkx_nodes(G, pos, node_size=500, node_color='red')\n",
    "#nx.draw_networkx_labels(G, pos, font_size=20, font_family='sans-serif')\n",
    "#plt.title('Graph')\n",
    "\n",
    "nx.draw_networkx_edges(tree, pos)\n",
    "nx.draw_networkx_nodes(tree, pos, node_size=500, node_color='red')\n",
    "nx.draw_networkx_labels(tree, pos, font_size=20, font_family='sans-serif')\n",
    "plt.title('BFS Path')\n",
    "\n",
    "plt.show()\n"
   ]
  },
  {
   "cell_type": "code",
   "execution_count": 28,
   "metadata": {},
   "outputs": [],
   "source": [
    "from collections import deque\n",
    "\n",
    "class bfs_search(generic_search_problem):\n",
    "    \n",
    "    def __init__(self,_edges):\n",
    "        self.edges=_edges\n",
    "        self.nodes={a for a,b in self.edges} | {b for a,b in self.edges}\n",
    "            \n",
    "    def is_goal(self,node,goal):\n",
    "        return node==goal\n",
    "\n",
    "    def get_children(self,node):\n",
    "        return {b for a,b in self.edges if a==node}\n",
    "    \n",
    "    def search(self,start,goal):\n",
    "        parents={}\n",
    "        visited=set()\n",
    "        parents.update({start:None})\n",
    "        frontier=deque()\n",
    "        frontier.append(start)\n",
    "        while frontier:\n",
    "            node=frontier.popleft()\n",
    "            if self.is_goal(node,goal):\n",
    "                return parents\n",
    "            for child in self.get_children(node):\n",
    "                if child not in visited:\n",
    "                    parents.update({child:node})\n",
    "                    frontier.append(child)\n",
    "                    visited.add(child)\n",
    "        return parents"
   ]
  },
  {
   "cell_type": "code",
   "execution_count": 29,
   "metadata": {},
   "outputs": [
    {
     "name": "stdout",
     "output_type": "stream",
     "text": [
      "{'b', 'c'}\n",
      "{'a': None, 'b': 'a', 'c': 'a', 'd': 'b', 'g': 'c'}\n",
      "['g', 'c', 'a']\n"
     ]
    }
   ],
   "source": [
    "E={('a', 'b'),('a', 'c'),('b', 'c'),('c', 'd'),('b', 'd'),('d', 'g'),('c', 'g')}\n",
    "bfs=bfs_search(E)\n",
    "print(bfs.get_children('a'))\n",
    "bfs_tree=bfs.search('a','g')\n",
    "print(bfs_tree)\n",
    "\n",
    "def get_path(search_results,goal):\n",
    "    path=[goal]\n",
    "    node=goal\n",
    "    while search_results[node] is not None:\n",
    "        parent=search_results[node]\n",
    "        path.append(parent)\n",
    "        node=parent\n",
    "    return path\n",
    "   \n",
    "print(get_path(bfs_tree,'g'))"
   ]
  },
  {
   "cell_type": "markdown",
   "metadata": {},
   "source": [
    "<h2>Búsqueda Heurística</h2>\n",
    "A diferencia de la búqueda no informada, la estrategia de búsqueda denominada best-first es un método del tipo greedy que incorpora al costo $h(n)$ del nodo $n$ hacia el objetivo. La estrategia de búsqueda greedy best-first selecciona el candidato $n \\in \\operatorname{GET\\_CHILDREN}$ con\n",
    "mejor puntuación $f(n) = h(n)$ en cada momento."
   ]
  },
  {
   "cell_type": "code",
   "execution_count": 32,
   "metadata": {},
   "outputs": [],
   "source": [
    "from heapq import heappush,heappop\n",
    "\n",
    "class bestfirst_search(generic_search_problem):\n",
    "    \n",
    "    def __init__(self,_edges,_heuristic):\n",
    "        self.edges=_edges\n",
    "        self.heuristic=_heuristic\n",
    "        self.nodes={a for a,b in self.edges} | {b for a,b in self.edges}\n",
    "        \n",
    "    def is_goal(self,node,goal):\n",
    "        return node==goal \n",
    "\n",
    "    def get_children(self,node):\n",
    "        return {b for a,b in self.edges if a==node}\n",
    "    \n",
    "    def search(self,start,goal):\n",
    "        parents={}\n",
    "        visited=set()\n",
    "        parents.update({start:None})\n",
    "        frontier=[]\n",
    "        heappush(frontier,(self.heuristic[start],start))\n",
    "        while frontier:\n",
    "            node=heappop(frontier)[1]\n",
    "            if self.is_goal(node,goal):\n",
    "                return parents\n",
    "            for child in self.get_children(node):\n",
    "                if child not in visited:\n",
    "                    parents.update({child:node})\n",
    "                    heappush(frontier,(self.heuristic[child],child))\n",
    "                    visited.add(child)\n",
    "        return parents\n"
   ]
  },
  {
   "cell_type": "code",
   "execution_count": 34,
   "metadata": {},
   "outputs": [
    {
     "data": {
      "text/plain": [
       "{'a': None, 'b': 'a', 'c': 'a', 'd': 'c', 'g': 'c'}"
      ]
     },
     "execution_count": 34,
     "metadata": {},
     "output_type": "execute_result"
    }
   ],
   "source": [
    "E={('a', 'b'),('a', 'c'),('b', 'c'),('c', 'd'),('b', 'd'),('d', 'g'),('c', 'g')}\n",
    "H={'a':0,'b':3,'c':2,'d':1,'g':0}\n",
    "\n",
    "bs=bestfirst_search(E,H)\n",
    "bs.search('a','g')"
   ]
  },
  {
   "cell_type": "markdown",
   "metadata": {},
   "source": [
    "la estrategia de búsqueda A* es también un método del tipo greedy que incorpora al costo $h(n)$ del nodo $n$ hacia el objetivo así como también el costo acumulado $g(n)$ de llegar hacia $n$. La estrategia de búsqueda greedy best-first selecciona el candidato $n \\in \\operatorname{GET\\_CHILDREN}$ con\n",
    "mejor puntuación $f(n) = h(n)+g(n)$ en cada momento."
   ]
  },
  {
   "cell_type": "code",
   "execution_count": 35,
   "metadata": {},
   "outputs": [],
   "source": [
    "E={('a', 'b'):1,('a', 'c'):3,('b', 'c'):1,('c', 'd'):1,('b', 'd'):3,('d', 'g'):1,('c', 'g'):3}\n",
    "H={'a':0,'b':3,'c':2,'d':1,'g':0}"
   ]
  },
  {
   "cell_type": "code",
   "execution_count": 8,
   "metadata": {},
   "outputs": [],
   "source": [
    "# Tarea implementar A* para incorporar el costo acumulado\n",
    "\n",
    "from heapq import heappush,heappop\n",
    "\n",
    "class astar_search(generic_search_problem):\n",
    "    \n",
    "    def __init__(self,_edges,_heuristic,_start,_goal):\n",
    "        pass\n",
    "    \n",
    "    def start_node(self):\n",
    "        pass\n",
    "    \n",
    "    def is_goal(self,node):\n",
    "        pass\n",
    "        \n",
    "    def get_children(self,node):\n",
    "        pass\n",
    "        \n",
    "    def search(self):\n",
    "        pass\n",
    "        \n"
   ]
  },
  {
   "cell_type": "markdown",
   "metadata": {},
   "source": [
    "<h1>Implementación Puzzle 8</h1>\n",
    "<p>\n",
    "El problema del 8-puzzle fue inventado en 1870 y se juega en una grilla de 3x3 con 9 bloques cuadrados. Cada bloque tiene una etiqueta con un número del 1 al 8 y existe un espacio en blanco en el cual el jugador puede mover un bloque adyacente.   \n",
    "</p>\n",
    "    "
   ]
  },
  {
   "cell_type": "code",
   "execution_count": 9,
   "metadata": {},
   "outputs": [
    {
     "data": {
      "image/png": "[encoded data removed]",
      "text/plain": [
       "<IPython.core.display.Image object>"
      ]
     },
     "execution_count": 9,
     "metadata": {},
     "output_type": "execute_result"
    }
   ],
   "source": [
    "from IPython.display import Image\n",
    "Image(filename='../figures/8_puzzle.png') \n",
    "    "
   ]
  },
  {
   "cell_type": "markdown",
   "metadata": {
    "slideshow": {
     "slide_type": "-"
    }
   },
   "source": [
    "<p>\n",
    "Cada estado del puzzle puede ser visto como un vértice de un grafo tipo árbol, cuyo nodo raiz es el estado inicial del puzzle. Las estrategias de búsqueda no-informada no utilizan ningún criterio para ponderar las soluciones y por ende dependen en gran medida de la complejidad del problema.</p>\n",
    "<p>\n",
    "<ul>\n",
    "<li>\n",
    "De modo de diseñar algoritmos ''inteligentes'', es necesario reducir el espacio de b{usqueda y concentrarse en los estados que sean  atractivos.\n",
    "</li>\n",
    "<li>\n",
    "Dado la alta complejidad de los problemas, no es posible recorrer todos los caminos y por lo tanto solo podemos evaluar estados que sean potencialmente atractivos.\n",
    "<li>\n",
    "La estrategia de búsqueda A* utiliza una combinación de búsqueda local:\n",
    "</li>\n",
    "\n",
    "\\begin{align}\n",
    "f(n)=g(n)+h(n)\n",
    "\\end{align}\n",
    "\n",
    "Donde $g(n)$ corresponde al costo de la ruta desde el nodo inicial al nodo $n$ y $h(n)$ es el costo estimado (cota inferior) desde $n$ hasta el nodo objetivo.\n",
    "</ul>\n",
    "\n",
    "Para el problema del puzzle, utlizamos las siguientes heurísticas:\n",
    "\n",
    "<ul>\n",
    "<li>\n",
    "Distancia Hamming : Número de bloques en la posición incorrecta.\n",
    "</li>\n",
    "<li>\n",
    "Distancia Manhattan : Suma de las distancias (suma de la distancia horizontal y vertical) desde el bloque hasta la posición objetivo ($d_M=\\vert X_n-X_g \\vert + \\vert Y_n-Y_g \\vert$).\n",
    "</li>\n"
   ]
  },
  {
   "cell_type": "code",
   "execution_count": 31,
   "metadata": {},
   "outputs": [],
   "source": [
    "from IPython.display import Image\n",
    "#Image(filename='../figures/8_puzzle_distancias.png') "
   ]
  },
  {
   "cell_type": "code",
   "execution_count": 50,
   "metadata": {},
   "outputs": [],
   "source": [
    "from heapq import heappush,heappop\n",
    "import numpy as np\n",
    "\n",
    "class puzzle(object):\n",
    "    \n",
    "    def __init__(self,node,level):\n",
    "        self.state=node\n",
    "        self.level=level\n",
    "        \n",
    "    def __hash__(self):\n",
    "        return hash(np.array_str(self.state.ravel()))\n",
    "        \n",
    "    def __eq__(self,other):\n",
    "        return np.array_equal(other.state,self.state)\n",
    "\n",
    "    def __eq__(self,other):\n",
    "        return np.array_equal(other.state,self.state)\n",
    "    \n",
    "    def __gt__(self,other):\n",
    "        return self.level>other.level\n",
    "\n",
    "    def __lt__(self,other):\n",
    "        return self.level<other.level\n",
    "   \n",
    "    def pretty_print(self):\n",
    "        return np.array_str(self.state.ravel())\n",
    " \n",
    "    def solvable(self):\n",
    "        return len([(a,b) for i,a in enumerate(self.state.ravel()) for b in self.state.ravel()[i:] if a>b & b!=0])%2==0\n",
    "    \n",
    "    def my_heuristic(self,alpha=2):\n",
    "        dim=self.state.shape[0]\n",
    "        return alpha*((dim*dim-2)-len([(a,b) for i,a in enumerate(random_start.state.ravel()) for b in random_start.state.ravel()[i:i+2] if b==a+1]))\n",
    "\n",
    "    \n",
    "def manhattan(node,goal):\n",
    "    dim=node.state.shape[0]\n",
    "    diff_mat=np.zeros((dim,dim))\n",
    "    for i in range(dim):\n",
    "        for j in range(dim):\n",
    "            if goal.state[i,j]!=0:\n",
    "                u,v=map(np.int,np.where(node.state==goal.state[i,j]))\n",
    "                diff_mat[i,j]=abs(i-u)+abs(j-v)\n",
    "    return int(diff_mat.sum())\n",
    "\n",
    "def hamming(node,goal):\n",
    "    dim=node.state.shape[0]\n",
    "    diff_mat=np.zeros((dim,dim))\n",
    "    diff_mat=node.state!=goal.state\n",
    "    dist=np.sum(diff_mat.astype(int).ravel())\n",
    "    if dist>0:\n",
    "        dist=dist-1\n",
    "    return dist\n",
    "    \n",
    "class bestfirst_puzzle(generic_search_problem):\n",
    "    \n",
    "    def __init__(self,_heuristic):\n",
    "        self.heuristic=_heuristic\n",
    "        \n",
    "    def is_goal(self,node,goal):\n",
    "        return node==goal\n",
    "\n",
    "    def get_children(self,node):\n",
    "        child_list=set()\n",
    "        dim=node.state.shape[0]\n",
    "        i,j=map(np.int,np.where(node.state==0))\n",
    "        #print i,j\n",
    "        if (j>0):\n",
    "            child=node.state.copy()\n",
    "            child[i,j]=node.state[i,j-1]\n",
    "            child[i,j-1]=0\n",
    "            p=puzzle(child,node.level+1)\n",
    "            child_list.add(p)\n",
    "        if (j<dim-1):\n",
    "            child=node.state.copy()\n",
    "            child[i,j]=node.state[i,j+1]\n",
    "            child[i,j+1]=0\n",
    "            p=puzzle(child,node.level+1)\n",
    "            child_list.add(p)\n",
    "        if (i>0):\n",
    "            child=node.state.copy()\n",
    "            child[i,j]=node.state[i-1,j]\n",
    "            child[i-1,j]=0\n",
    "            p=puzzle(child,node.level+1)\n",
    "            child_list.add(p)\n",
    "        if (i<dim-1):\n",
    "            child=node.state.copy()\n",
    "            child[i,j]=node.state[i+1,j]\n",
    "            child[i+1,j]=0\n",
    "            p=puzzle(child,node.level+1)\n",
    "            child_list.add(p)\n",
    "        return child_list\n",
    "    \n",
    "    def search(self,start,goal):\n",
    "        parents={}\n",
    "        visited=set()\n",
    "        parents.update({start:None})\n",
    "        frontier=[]\n",
    "        heappush(frontier,(self.heuristic(start,goal),start))\n",
    "        while frontier:\n",
    "            node=heappop(frontier)[1]\n",
    "            if self.is_goal(node,goal):\n",
    "                return parents,len(frontier),len(visited)\n",
    "            visited.add(node)\n",
    "            for child in self.get_children(node):\n",
    "                if child not in visited:\n",
    "                    parents.update({child:node})\n",
    "                    heappush(frontier,(self.heuristic(child,goal),child))\n",
    "        return parents,len(frontier),len(visited)"
   ]
  },
  {
   "cell_type": "code",
   "execution_count": 51,
   "metadata": {},
   "outputs": [
    {
     "ename": "KeyboardInterrupt",
     "evalue": "",
     "output_type": "error",
     "traceback": [
      "\u001b[0;31m---------------------------------------------------------------------------\u001b[0m",
      "\u001b[0;31mKeyboardInterrupt\u001b[0m                         Traceback (most recent call last)",
      "\u001b[0;32m<ipython-input-51-a81fda493ead>\u001b[0m in \u001b[0;36m<module>\u001b[0;34m()\u001b[0m\n\u001b[1;32m      7\u001b[0m \u001b[0;34m\u001b[0m\u001b[0m\n\u001b[1;32m      8\u001b[0m \u001b[0msolver_tree\u001b[0m\u001b[0;34m,\u001b[0m\u001b[0mk\u001b[0m\u001b[0;34m,\u001b[0m\u001b[0mh\u001b[0m\u001b[0;34m=\u001b[0m\u001b[0msolver\u001b[0m\u001b[0;34m.\u001b[0m\u001b[0msearch\u001b[0m\u001b[0;34m(\u001b[0m\u001b[0measy_start\u001b[0m\u001b[0;34m,\u001b[0m\u001b[0mgoal\u001b[0m\u001b[0;34m)\u001b[0m\u001b[0;34m\u001b[0m\u001b[0;34m\u001b[0m\u001b[0m\n\u001b[0;32m----> 9\u001b[0;31m \u001b[0mpath\u001b[0m\u001b[0;34m=\u001b[0m\u001b[0mget_path\u001b[0m\u001b[0;34m(\u001b[0m\u001b[0msolver_tree\u001b[0m\u001b[0;34m,\u001b[0m\u001b[0mgoal\u001b[0m\u001b[0;34m)\u001b[0m\u001b[0;34m\u001b[0m\u001b[0;34m\u001b[0m\u001b[0m\n\u001b[0m\u001b[1;32m     10\u001b[0m \u001b[0;34m\u001b[0m\u001b[0m\n\u001b[1;32m     11\u001b[0m \u001b[0;32mfor\u001b[0m \u001b[0mp\u001b[0m \u001b[0;32min\u001b[0m \u001b[0mpath\u001b[0m\u001b[0;34m:\u001b[0m\u001b[0;34m\u001b[0m\u001b[0;34m\u001b[0m\u001b[0m\n",
      "\u001b[0;32m<ipython-input-29-8086e1dbebda>\u001b[0m in \u001b[0;36mget_path\u001b[0;34m(search_results, goal)\u001b[0m\n\u001b[1;32m      8\u001b[0m     \u001b[0mnode\u001b[0m\u001b[0;34m=\u001b[0m\u001b[0mgoal\u001b[0m\u001b[0;34m\u001b[0m\u001b[0;34m\u001b[0m\u001b[0m\n\u001b[1;32m      9\u001b[0m     \u001b[0;32mwhile\u001b[0m \u001b[0msearch_results\u001b[0m\u001b[0;34m[\u001b[0m\u001b[0mnode\u001b[0m\u001b[0;34m]\u001b[0m \u001b[0;32mis\u001b[0m \u001b[0;32mnot\u001b[0m \u001b[0;32mNone\u001b[0m\u001b[0;34m:\u001b[0m\u001b[0;34m\u001b[0m\u001b[0;34m\u001b[0m\u001b[0m\n\u001b[0;32m---> 10\u001b[0;31m         \u001b[0mparent\u001b[0m\u001b[0;34m=\u001b[0m\u001b[0msearch_results\u001b[0m\u001b[0;34m[\u001b[0m\u001b[0mnode\u001b[0m\u001b[0;34m]\u001b[0m\u001b[0;34m\u001b[0m\u001b[0;34m\u001b[0m\u001b[0m\n\u001b[0m\u001b[1;32m     11\u001b[0m         \u001b[0mpath\u001b[0m\u001b[0;34m.\u001b[0m\u001b[0mappend\u001b[0m\u001b[0;34m(\u001b[0m\u001b[0mparent\u001b[0m\u001b[0;34m)\u001b[0m\u001b[0;34m\u001b[0m\u001b[0;34m\u001b[0m\u001b[0m\n\u001b[1;32m     12\u001b[0m         \u001b[0mnode\u001b[0m\u001b[0;34m=\u001b[0m\u001b[0mparent\u001b[0m\u001b[0;34m\u001b[0m\u001b[0;34m\u001b[0m\u001b[0m\n",
      "\u001b[0;32m<ipython-input-50-f2d20c246491>\u001b[0m in \u001b[0;36m__hash__\u001b[0;34m(self)\u001b[0m\n\u001b[1;32m      9\u001b[0m \u001b[0;34m\u001b[0m\u001b[0m\n\u001b[1;32m     10\u001b[0m     \u001b[0;32mdef\u001b[0m \u001b[0m__hash__\u001b[0m\u001b[0;34m(\u001b[0m\u001b[0mself\u001b[0m\u001b[0;34m)\u001b[0m\u001b[0;34m:\u001b[0m\u001b[0;34m\u001b[0m\u001b[0;34m\u001b[0m\u001b[0m\n\u001b[0;32m---> 11\u001b[0;31m         \u001b[0;32mreturn\u001b[0m \u001b[0mhash\u001b[0m\u001b[0;34m(\u001b[0m\u001b[0mnp\u001b[0m\u001b[0;34m.\u001b[0m\u001b[0marray_str\u001b[0m\u001b[0;34m(\u001b[0m\u001b[0mself\u001b[0m\u001b[0;34m.\u001b[0m\u001b[0mstate\u001b[0m\u001b[0;34m.\u001b[0m\u001b[0mravel\u001b[0m\u001b[0;34m(\u001b[0m\u001b[0;34m)\u001b[0m\u001b[0;34m)\u001b[0m\u001b[0;34m)\u001b[0m\u001b[0;34m\u001b[0m\u001b[0;34m\u001b[0m\u001b[0m\n\u001b[0m\u001b[1;32m     12\u001b[0m \u001b[0;34m\u001b[0m\u001b[0m\n\u001b[1;32m     13\u001b[0m     \u001b[0;32mdef\u001b[0m \u001b[0m__eq__\u001b[0m\u001b[0;34m(\u001b[0m\u001b[0mself\u001b[0m\u001b[0;34m,\u001b[0m\u001b[0mother\u001b[0m\u001b[0;34m)\u001b[0m\u001b[0;34m:\u001b[0m\u001b[0;34m\u001b[0m\u001b[0;34m\u001b[0m\u001b[0m\n",
      "\u001b[0;32m<__array_function__ internals>\u001b[0m in \u001b[0;36marray_str\u001b[0;34m(*args, **kwargs)\u001b[0m\n",
      "\u001b[0;32m/home/sergio/.local/lib/python3.6/site-packages/numpy/core/arrayprint.py\u001b[0m in \u001b[0;36marray_str\u001b[0;34m(a, max_line_width, precision, suppress_small)\u001b[0m\n\u001b[1;32m   1572\u001b[0m     \"\"\"\n\u001b[1;32m   1573\u001b[0m     return _array_str_implementation(\n\u001b[0;32m-> 1574\u001b[0;31m         a, max_line_width, precision, suppress_small)\n\u001b[0m\u001b[1;32m   1575\u001b[0m \u001b[0;34m\u001b[0m\u001b[0m\n\u001b[1;32m   1576\u001b[0m \u001b[0;34m\u001b[0m\u001b[0m\n",
      "\u001b[0;32m/home/sergio/.local/lib/python3.6/site-packages/numpy/core/arrayprint.py\u001b[0m in \u001b[0;36m_array_str_implementation\u001b[0;34m(a, max_line_width, precision, suppress_small, array2string)\u001b[0m\n\u001b[1;32m   1527\u001b[0m         \u001b[0;32mreturn\u001b[0m \u001b[0m_guarded_str\u001b[0m\u001b[0;34m(\u001b[0m\u001b[0mnp\u001b[0m\u001b[0;34m.\u001b[0m\u001b[0mndarray\u001b[0m\u001b[0;34m.\u001b[0m\u001b[0m__getitem__\u001b[0m\u001b[0;34m(\u001b[0m\u001b[0ma\u001b[0m\u001b[0;34m,\u001b[0m \u001b[0;34m(\u001b[0m\u001b[0;34m)\u001b[0m\u001b[0;34m)\u001b[0m\u001b[0;34m)\u001b[0m\u001b[0;34m\u001b[0m\u001b[0;34m\u001b[0m\u001b[0m\n\u001b[1;32m   1528\u001b[0m \u001b[0;34m\u001b[0m\u001b[0m\n\u001b[0;32m-> 1529\u001b[0;31m     \u001b[0;32mreturn\u001b[0m \u001b[0marray2string\u001b[0m\u001b[0;34m(\u001b[0m\u001b[0ma\u001b[0m\u001b[0;34m,\u001b[0m \u001b[0mmax_line_width\u001b[0m\u001b[0;34m,\u001b[0m \u001b[0mprecision\u001b[0m\u001b[0;34m,\u001b[0m \u001b[0msuppress_small\u001b[0m\u001b[0;34m,\u001b[0m \u001b[0;34m' '\u001b[0m\u001b[0;34m,\u001b[0m \u001b[0;34m\"\"\u001b[0m\u001b[0;34m)\u001b[0m\u001b[0;34m\u001b[0m\u001b[0;34m\u001b[0m\u001b[0m\n\u001b[0m\u001b[1;32m   1530\u001b[0m \u001b[0;34m\u001b[0m\u001b[0m\n\u001b[1;32m   1531\u001b[0m \u001b[0;34m\u001b[0m\u001b[0m\n",
      "\u001b[0;32m<__array_function__ internals>\u001b[0m in \u001b[0;36marray2string\u001b[0;34m(*args, **kwargs)\u001b[0m\n",
      "\u001b[0;32m/home/sergio/.local/lib/python3.6/site-packages/numpy/core/arrayprint.py\u001b[0m in \u001b[0;36marray2string\u001b[0;34m(a, max_line_width, precision, suppress_small, separator, prefix, style, formatter, threshold, edgeitems, sign, floatmode, suffix, **kwarg)\u001b[0m\n\u001b[1;32m    698\u001b[0m         \u001b[0;32mreturn\u001b[0m \u001b[0;34m\"[]\"\u001b[0m\u001b[0;34m\u001b[0m\u001b[0;34m\u001b[0m\u001b[0m\n\u001b[1;32m    699\u001b[0m \u001b[0;34m\u001b[0m\u001b[0m\n\u001b[0;32m--> 700\u001b[0;31m     \u001b[0;32mreturn\u001b[0m \u001b[0m_array2string\u001b[0m\u001b[0;34m(\u001b[0m\u001b[0ma\u001b[0m\u001b[0;34m,\u001b[0m \u001b[0moptions\u001b[0m\u001b[0;34m,\u001b[0m \u001b[0mseparator\u001b[0m\u001b[0;34m,\u001b[0m \u001b[0mprefix\u001b[0m\u001b[0;34m)\u001b[0m\u001b[0;34m\u001b[0m\u001b[0;34m\u001b[0m\u001b[0m\n\u001b[0m\u001b[1;32m    701\u001b[0m \u001b[0;34m\u001b[0m\u001b[0m\n\u001b[1;32m    702\u001b[0m \u001b[0;34m\u001b[0m\u001b[0m\n",
      "\u001b[0;32m/home/sergio/.local/lib/python3.6/site-packages/numpy/core/arrayprint.py\u001b[0m in \u001b[0;36mwrapper\u001b[0;34m(self, *args, **kwargs)\u001b[0m\n\u001b[1;32m    470\u001b[0m             \u001b[0mrepr_running\u001b[0m\u001b[0;34m.\u001b[0m\u001b[0madd\u001b[0m\u001b[0;34m(\u001b[0m\u001b[0mkey\u001b[0m\u001b[0;34m)\u001b[0m\u001b[0;34m\u001b[0m\u001b[0;34m\u001b[0m\u001b[0m\n\u001b[1;32m    471\u001b[0m             \u001b[0;32mtry\u001b[0m\u001b[0;34m:\u001b[0m\u001b[0;34m\u001b[0m\u001b[0;34m\u001b[0m\u001b[0m\n\u001b[0;32m--> 472\u001b[0;31m                 \u001b[0;32mreturn\u001b[0m \u001b[0mf\u001b[0m\u001b[0;34m(\u001b[0m\u001b[0mself\u001b[0m\u001b[0;34m,\u001b[0m \u001b[0;34m*\u001b[0m\u001b[0margs\u001b[0m\u001b[0;34m,\u001b[0m \u001b[0;34m**\u001b[0m\u001b[0mkwargs\u001b[0m\u001b[0;34m)\u001b[0m\u001b[0;34m\u001b[0m\u001b[0;34m\u001b[0m\u001b[0m\n\u001b[0m\u001b[1;32m    473\u001b[0m             \u001b[0;32mfinally\u001b[0m\u001b[0;34m:\u001b[0m\u001b[0;34m\u001b[0m\u001b[0;34m\u001b[0m\u001b[0m\n\u001b[1;32m    474\u001b[0m                 \u001b[0mrepr_running\u001b[0m\u001b[0;34m.\u001b[0m\u001b[0mdiscard\u001b[0m\u001b[0;34m(\u001b[0m\u001b[0mkey\u001b[0m\u001b[0;34m)\u001b[0m\u001b[0;34m\u001b[0m\u001b[0;34m\u001b[0m\u001b[0m\n",
      "\u001b[0;32m/home/sergio/.local/lib/python3.6/site-packages/numpy/core/arrayprint.py\u001b[0m in \u001b[0;36m_array2string\u001b[0;34m(a, options, separator, prefix)\u001b[0m\n\u001b[1;32m    496\u001b[0m \u001b[0;34m\u001b[0m\u001b[0m\n\u001b[1;32m    497\u001b[0m     \u001b[0;31m# find the right formatting function for the array\u001b[0m\u001b[0;34m\u001b[0m\u001b[0;34m\u001b[0m\u001b[0;34m\u001b[0m\u001b[0m\n\u001b[0;32m--> 498\u001b[0;31m     \u001b[0mformat_function\u001b[0m \u001b[0;34m=\u001b[0m \u001b[0m_get_format_function\u001b[0m\u001b[0;34m(\u001b[0m\u001b[0mdata\u001b[0m\u001b[0;34m,\u001b[0m \u001b[0;34m**\u001b[0m\u001b[0moptions\u001b[0m\u001b[0;34m)\u001b[0m\u001b[0;34m\u001b[0m\u001b[0;34m\u001b[0m\u001b[0m\n\u001b[0m\u001b[1;32m    499\u001b[0m \u001b[0;34m\u001b[0m\u001b[0m\n\u001b[1;32m    500\u001b[0m     \u001b[0;31m# skip over \"[\"\u001b[0m\u001b[0;34m\u001b[0m\u001b[0;34m\u001b[0m\u001b[0;34m\u001b[0m\u001b[0m\n",
      "\u001b[0;32m/home/sergio/.local/lib/python3.6/site-packages/numpy/core/arrayprint.py\u001b[0m in \u001b[0;36m_get_format_function\u001b[0;34m(data, **options)\u001b[0m\n\u001b[1;32m    424\u001b[0m             \u001b[0;32mreturn\u001b[0m \u001b[0mformatdict\u001b[0m\u001b[0;34m[\u001b[0m\u001b[0;34m'timedelta'\u001b[0m\u001b[0;34m]\u001b[0m\u001b[0;34m(\u001b[0m\u001b[0;34m)\u001b[0m\u001b[0;34m\u001b[0m\u001b[0;34m\u001b[0m\u001b[0m\n\u001b[1;32m    425\u001b[0m         \u001b[0;32melse\u001b[0m\u001b[0;34m:\u001b[0m\u001b[0;34m\u001b[0m\u001b[0;34m\u001b[0m\u001b[0m\n\u001b[0;32m--> 426\u001b[0;31m             \u001b[0;32mreturn\u001b[0m \u001b[0mformatdict\u001b[0m\u001b[0;34m[\u001b[0m\u001b[0;34m'int'\u001b[0m\u001b[0;34m]\u001b[0m\u001b[0;34m(\u001b[0m\u001b[0;34m)\u001b[0m\u001b[0;34m\u001b[0m\u001b[0;34m\u001b[0m\u001b[0m\n\u001b[0m\u001b[1;32m    427\u001b[0m     \u001b[0;32melif\u001b[0m \u001b[0missubclass\u001b[0m\u001b[0;34m(\u001b[0m\u001b[0mdtypeobj\u001b[0m\u001b[0;34m,\u001b[0m \u001b[0m_nt\u001b[0m\u001b[0;34m.\u001b[0m\u001b[0mfloating\u001b[0m\u001b[0;34m)\u001b[0m\u001b[0;34m:\u001b[0m\u001b[0;34m\u001b[0m\u001b[0;34m\u001b[0m\u001b[0m\n\u001b[1;32m    428\u001b[0m         \u001b[0;32mif\u001b[0m \u001b[0missubclass\u001b[0m\u001b[0;34m(\u001b[0m\u001b[0mdtypeobj\u001b[0m\u001b[0;34m,\u001b[0m \u001b[0m_nt\u001b[0m\u001b[0;34m.\u001b[0m\u001b[0mlongfloat\u001b[0m\u001b[0;34m)\u001b[0m\u001b[0;34m:\u001b[0m\u001b[0;34m\u001b[0m\u001b[0;34m\u001b[0m\u001b[0m\n",
      "\u001b[0;32m/home/sergio/.local/lib/python3.6/site-packages/numpy/core/arrayprint.py\u001b[0m in \u001b[0;36m<lambda>\u001b[0;34m()\u001b[0m\n\u001b[1;32m    366\u001b[0m     formatdict = {\n\u001b[1;32m    367\u001b[0m         \u001b[0;34m'bool'\u001b[0m\u001b[0;34m:\u001b[0m \u001b[0;32mlambda\u001b[0m\u001b[0;34m:\u001b[0m \u001b[0mBoolFormat\u001b[0m\u001b[0;34m(\u001b[0m\u001b[0mdata\u001b[0m\u001b[0;34m)\u001b[0m\u001b[0;34m,\u001b[0m\u001b[0;34m\u001b[0m\u001b[0;34m\u001b[0m\u001b[0m\n\u001b[0;32m--> 368\u001b[0;31m         \u001b[0;34m'int'\u001b[0m\u001b[0;34m:\u001b[0m \u001b[0;32mlambda\u001b[0m\u001b[0;34m:\u001b[0m \u001b[0mIntegerFormat\u001b[0m\u001b[0;34m(\u001b[0m\u001b[0mdata\u001b[0m\u001b[0;34m)\u001b[0m\u001b[0;34m,\u001b[0m\u001b[0;34m\u001b[0m\u001b[0;34m\u001b[0m\u001b[0m\n\u001b[0m\u001b[1;32m    369\u001b[0m         \u001b[0;34m'float'\u001b[0m\u001b[0;34m:\u001b[0m \u001b[0;32mlambda\u001b[0m\u001b[0;34m:\u001b[0m\u001b[0;34m\u001b[0m\u001b[0;34m\u001b[0m\u001b[0m\n\u001b[1;32m    370\u001b[0m             \u001b[0mFloatingFormat\u001b[0m\u001b[0;34m(\u001b[0m\u001b[0mdata\u001b[0m\u001b[0;34m,\u001b[0m \u001b[0mprec\u001b[0m\u001b[0;34m,\u001b[0m \u001b[0mfmode\u001b[0m\u001b[0;34m,\u001b[0m \u001b[0msupp\u001b[0m\u001b[0;34m,\u001b[0m \u001b[0msign\u001b[0m\u001b[0;34m,\u001b[0m \u001b[0mlegacy\u001b[0m\u001b[0;34m=\u001b[0m\u001b[0mlegacy\u001b[0m\u001b[0;34m)\u001b[0m\u001b[0;34m,\u001b[0m\u001b[0;34m\u001b[0m\u001b[0;34m\u001b[0m\u001b[0m\n",
      "\u001b[0;32m/home/sergio/.local/lib/python3.6/site-packages/numpy/core/arrayprint.py\u001b[0m in \u001b[0;36m__init__\u001b[0;34m(self, data)\u001b[0m\n\u001b[1;32m   1146\u001b[0m     \u001b[0;32mdef\u001b[0m \u001b[0m__init__\u001b[0m\u001b[0;34m(\u001b[0m\u001b[0mself\u001b[0m\u001b[0;34m,\u001b[0m \u001b[0mdata\u001b[0m\u001b[0;34m)\u001b[0m\u001b[0;34m:\u001b[0m\u001b[0;34m\u001b[0m\u001b[0;34m\u001b[0m\u001b[0m\n\u001b[1;32m   1147\u001b[0m         \u001b[0;32mif\u001b[0m \u001b[0mdata\u001b[0m\u001b[0;34m.\u001b[0m\u001b[0msize\u001b[0m \u001b[0;34m>\u001b[0m \u001b[0;36m0\u001b[0m\u001b[0;34m:\u001b[0m\u001b[0;34m\u001b[0m\u001b[0;34m\u001b[0m\u001b[0m\n\u001b[0;32m-> 1148\u001b[0;31m             max_str_len = max(len(str(np.max(data))),\n\u001b[0m\u001b[1;32m   1149\u001b[0m                               len(str(np.min(data))))\n\u001b[1;32m   1150\u001b[0m         \u001b[0;32melse\u001b[0m\u001b[0;34m:\u001b[0m\u001b[0;34m\u001b[0m\u001b[0;34m\u001b[0m\u001b[0m\n",
      "\u001b[0;32m<__array_function__ internals>\u001b[0m in \u001b[0;36mamax\u001b[0;34m(*args, **kwargs)\u001b[0m\n",
      "\u001b[0;32m/home/sergio/.local/lib/python3.6/site-packages/numpy/core/fromnumeric.py\u001b[0m in \u001b[0;36mamax\u001b[0;34m(a, axis, out, keepdims, initial, where)\u001b[0m\n\u001b[1;32m   2619\u001b[0m     \"\"\"\n\u001b[1;32m   2620\u001b[0m     return _wrapreduction(a, np.maximum, 'max', axis, None, out,\n\u001b[0;32m-> 2621\u001b[0;31m                           keepdims=keepdims, initial=initial, where=where)\n\u001b[0m\u001b[1;32m   2622\u001b[0m \u001b[0;34m\u001b[0m\u001b[0m\n\u001b[1;32m   2623\u001b[0m \u001b[0;34m\u001b[0m\u001b[0m\n",
      "\u001b[0;32m/home/sergio/.local/lib/python3.6/site-packages/numpy/core/fromnumeric.py\u001b[0m in \u001b[0;36m_wrapreduction\u001b[0;34m(obj, ufunc, method, axis, dtype, out, **kwargs)\u001b[0m\n\u001b[1;32m     88\u001b[0m                 \u001b[0;32mreturn\u001b[0m \u001b[0mreduction\u001b[0m\u001b[0;34m(\u001b[0m\u001b[0maxis\u001b[0m\u001b[0;34m=\u001b[0m\u001b[0maxis\u001b[0m\u001b[0;34m,\u001b[0m \u001b[0mout\u001b[0m\u001b[0;34m=\u001b[0m\u001b[0mout\u001b[0m\u001b[0;34m,\u001b[0m \u001b[0;34m**\u001b[0m\u001b[0mpasskwargs\u001b[0m\u001b[0;34m)\u001b[0m\u001b[0;34m\u001b[0m\u001b[0;34m\u001b[0m\u001b[0m\n\u001b[1;32m     89\u001b[0m \u001b[0;34m\u001b[0m\u001b[0m\n\u001b[0;32m---> 90\u001b[0;31m     \u001b[0;32mreturn\u001b[0m \u001b[0mufunc\u001b[0m\u001b[0;34m.\u001b[0m\u001b[0mreduce\u001b[0m\u001b[0;34m(\u001b[0m\u001b[0mobj\u001b[0m\u001b[0;34m,\u001b[0m \u001b[0maxis\u001b[0m\u001b[0;34m,\u001b[0m \u001b[0mdtype\u001b[0m\u001b[0;34m,\u001b[0m \u001b[0mout\u001b[0m\u001b[0;34m,\u001b[0m \u001b[0;34m**\u001b[0m\u001b[0mpasskwargs\u001b[0m\u001b[0;34m)\u001b[0m\u001b[0;34m\u001b[0m\u001b[0;34m\u001b[0m\u001b[0m\n\u001b[0m\u001b[1;32m     91\u001b[0m \u001b[0;34m\u001b[0m\u001b[0m\n\u001b[1;32m     92\u001b[0m \u001b[0;34m\u001b[0m\u001b[0m\n",
      "\u001b[0;31mKeyboardInterrupt\u001b[0m: "
     ]
    }
   ],
   "source": [
    "# nodo inicial y objetivo\n",
    "dim=3\n",
    "\n",
    "goal=puzzle(np.insert(np.arange(1,dim*dim),dim*dim-1,0).reshape(dim,dim),0)\n",
    "\n",
    "easy_start=puzzle(np.insert(np.arange(1,dim*dim),6,0).reshape(dim,dim),0)\n",
    "\n",
    "solver_tree,k,h=solver.search(easy_start,goal)\n",
    "path=get_path(solver_tree,goal)\n",
    "\n",
    "for p in path:\n",
    "    print(p.state,hamming(p,goal))\n",
    "    print('---------------')\n",
    "print('frontier : {0}, visited : {1}'.format(k,h))\n",
    "    \n",
    "\n",
    "\n",
    "    "
   ]
  },
  {
   "cell_type": "code",
   "execution_count": 62,
   "metadata": {},
   "outputs": [
    {
     "data": {
      "image/png": "[encoded data removed]",
      "text/plain": [
       "<Figure size 1440x1080 with 2 Axes>"
      ]
     },
     "metadata": {},
     "output_type": "display_data"
    }
   ],
   "source": [
    "import seaborn as sns\n",
    "sns.set(style=\"darkgrid\")\n",
    "\n",
    "hamming_path=[]\n",
    "hamming_frontier=[]\n",
    "manhattan_path=[]\n",
    "manhattan_frontier=[]\n",
    "solver1=bestfirst_puzzle(hamming)\n",
    "solver2=bestfirst_puzzle(manhattan)\n",
    "        \n",
    "for i in range(200):\n",
    "    while True:\n",
    "        random_start=puzzle(np.random.permutation(np.arange(dim*dim)).reshape((dim,dim)),0)\n",
    "        if random_start.solvable() : break\n",
    "    p1,i,j=solver1.search(random_start,goal)\n",
    "    p2,k,h=solver2.search(random_start,goal)\n",
    "    hamming_path.append(j)\n",
    "    hamming_frontier.append(i)\n",
    "    manhattan_path.append(h)\n",
    "    manhattan_frontier.append(k)\n",
    "    \n",
    "\n",
    "plt.figure(figsize=(20,15))\n",
    "plt.plot([1,2,3])\n",
    "plt.subplot(221)\n",
    "plt.hist(hamming_path,bins=20 , histtype='stepfilled', color='b', alpha=0.5, label='Hamming')\n",
    "plt.hist(manhattan_path,bins=20, histtype='stepfilled',  color='r', alpha=0.5, label='Manhattan') \n",
    "plt.title(\"Path length Best-First\")\n",
    "plt.legend()\n",
    "plt.subplot(222)\n",
    "plt.hist(hamming_frontier,bins=20, histtype='stepfilled',  color='b', alpha=0.5, label='Hamming') \n",
    "plt.hist(manhattan_frontier,bins=20, histtype='stepfilled', color='r', alpha=0.5, label='Manhattan') \n",
    "plt.title(\"Frontier length Best-First\")\n",
    "plt.legend()\n",
    "plt.show()"
   ]
  }
 ],
 "metadata": {
  "celltoolbar": "Slideshow",
  "kernelspec": {
   "display_name": "Python 3",
   "language": "python",
   "name": "python3"
  },
  "language_info": {
   "codemirror_mode": {
    "name": "ipython",
    "version": 3
   },
   "file_extension": ".py",
   "mimetype": "text/x-python",
   "name": "python",
   "nbconvert_exporter": "python",
   "pygments_lexer": "ipython3",
   "version": "3.6.8"
  }
 },
 "nbformat": 4,
 "nbformat_minor": 2
}
